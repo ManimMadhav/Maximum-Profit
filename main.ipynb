"""import libraries"""

import numpy as np
import pandas as pd
import matplotlib.pyplot as plt

"""import dataset"""
dataset = pd.read_csv("50_Startups.csv")

"""setup independant variable"""
x = dataset.iloc[:,:-1].values

"""setup dependant variable"""
y = dataset.iloc[:,-1].values

"""encode the categorical data"""
from sklearn.compose import ColumnTransformer
from sklearn.preprocessing import OneHotEncoder
ct = ColumnTransformer(transformers=[('encoder',OneHotEncoder(),[3])],remainder='passthrough')
x = np.array(ct.fit_transform(x))

"""split training set and test set"""
from sklearn.model_selection import train_test_split
x_train, x_test, y_train, y_test = train_test_split(x,y,test_size=0.2,random_state=0)

from sklearn.linear_model import LinearRegression
regressor = LinearRegression()
regressor.fit(x_train,y_train)
