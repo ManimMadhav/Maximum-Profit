"""import libraries"""

import numpy as np
import pandas as pd
import matplotlib.pyplot as plt

"""import dataset"""
dataset = pd.read_csv("50_Startups.csv")

"""setup independant variable"""
x = dataset.iloc[:,:-1].values

"""setup dependant variable"""
y = dataset.iloc[:,-1].values

"""encode the categorical data"""
from sklearn.compose import ColumnTransformer
from sklearn.preprocessing import OneHotEncoder
ct = ColumnTransformer(transformers=[('encoder',OneHotEncoder(),[3])],remainder='passthrough')
x = np.array(ct.fit_transform(x))
